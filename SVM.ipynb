{
 "cells": [
  {
   "cell_type": "code",
   "execution_count": 26,
   "metadata": {},
   "outputs": [
    {
     "name": "stderr",
     "output_type": "stream",
     "text": [
      "/Users/shreyasmishra/Documents/ProgrammingResources/Miniconda/miniconda3/lib/python3.10/site-packages/sklearn/utils/validation.py:1141: DataConversionWarning: A column-vector y was passed when a 1d array was expected. Please change the shape of y to (n_samples, ), for example using ravel().\n",
      "  y = column_or_1d(y, warn=True)\n"
     ]
    },
    {
     "data": {
      "text/plain": [
       "0.9939393939393939"
      ]
     },
     "execution_count": 26,
     "metadata": {},
     "output_type": "execute_result"
    }
   ],
   "source": [
    "from sklearn.pipeline import make_pipeline\n",
    "from sklearn.preprocessing import StandardScaler\n",
    "import numpy as np\n",
    "from sklearn.svm import SVC\n",
    "from sklearn.model_selection import train_test_split\n",
    "import statistics\n",
    "N_SAMPLES = 1000\n",
    "X = np.random.normal(size = N_SAMPLES)\n",
    "y = np.empty(N_SAMPLES)\n",
    "S = statistics.stdev(X)\n",
    "M = statistics.mean(X)\n",
    "for i in range(0, N_SAMPLES):\n",
    "    if(X[i] < (M + S)):\n",
    "        y[i] = 1\n",
    "    if(X[i] > (M + S)):\n",
    "        y[i] = 0\n",
    "X_train, X_test, y_train, y_test = train_test_split(X, y, test_size = 0.33, random_state = 42)\n",
    "X_train = X_train.reshape(-1, 1)\n",
    "y_train = y_train.reshape(-1, 1)\n",
    "X_test = X_test.reshape(-1, 1)\n",
    "y_test = y_test.reshape(-1, 1)\n",
    "nd = make_pipeline(StandardScaler(), SVC(gamma=\"auto\"))\n",
    "nd.fit(X_train, y_train)\n",
    "nd.score(X_test, y_test)\n"
   ]
  }
 ],
 "metadata": {
  "kernelspec": {
   "display_name": "base",
   "language": "python",
   "name": "python3"
  },
  "language_info": {
   "codemirror_mode": {
    "name": "ipython",
    "version": 3
   },
   "file_extension": ".py",
   "mimetype": "text/x-python",
   "name": "python",
   "nbconvert_exporter": "python",
   "pygments_lexer": "ipython3",
   "version": "3.10.8"
  },
  "orig_nbformat": 4
 },
 "nbformat": 4,
 "nbformat_minor": 2
}

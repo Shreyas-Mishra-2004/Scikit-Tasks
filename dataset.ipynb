{
 "cells": [
  {
   "cell_type": "code",
   "execution_count": 6,
   "metadata": {},
   "outputs": [],
   "source": [
    "from sklearn.datasets import make_classification, make_blobs\n",
    "import numpy as np\n",
    "import statistics\n",
    "N_SAMPLES = 1000\n",
    "Z = np.random.normal(size = N_SAMPLES)\n",
    "Y = np.empty(N_SAMPLES)\n",
    "S = statistics.stdev(Z)\n",
    "M = statistics.mean(Z)\n",
    "for i in range(0, N_SAMPLES):\n",
    "    if(Z[i] < (M + S)):\n",
    "        Y[i] = 1\n",
    "    if(Z[i] > (M + S)):\n",
    "        Y[i] = 0\n",
    "\n",
    "\n"
   ]
  }
 ],
 "metadata": {
  "kernelspec": {
   "display_name": "base",
   "language": "python",
   "name": "python3"
  },
  "language_info": {
   "codemirror_mode": {
    "name": "ipython",
    "version": 3
   },
   "file_extension": ".py",
   "mimetype": "text/x-python",
   "name": "python",
   "nbconvert_exporter": "python",
   "pygments_lexer": "ipython3",
   "version": "3.10.8"
  },
  "orig_nbformat": 4,
  "vscode": {
   "interpreter": {
    "hash": "6ab16979fedb31641b7ac1243318526274ee2a3ad405b6c5288b249e5d6a200a"
   }
  }
 },
 "nbformat": 4,
 "nbformat_minor": 2
}

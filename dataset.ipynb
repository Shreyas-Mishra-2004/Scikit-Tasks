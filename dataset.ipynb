{
 "cells": [
  {
   "cell_type": "code",
   "execution_count": 11,
   "metadata": {},
   "outputs": [
    {
     "ename": "TypeError",
     "evalue": "can't convert type 'ndarray' to numerator/denominator",
     "output_type": "error",
     "traceback": [
      "\u001b[0;31m---------------------------------------------------------------------------\u001b[0m",
      "\u001b[0;31mAttributeError\u001b[0m                            Traceback (most recent call last)",
      "File \u001b[0;32m~/Documents/ProgrammingResources/Miniconda/miniconda3/lib/python3.10/statistics.py:258\u001b[0m, in \u001b[0;36m_exact_ratio\u001b[0;34m(x)\u001b[0m\n\u001b[1;32m    256\u001b[0m \u001b[39mtry\u001b[39;00m:\n\u001b[1;32m    257\u001b[0m     \u001b[39m# x may be an Integral ABC.\u001b[39;00m\n\u001b[0;32m--> 258\u001b[0m     \u001b[39mreturn\u001b[39;00m (x\u001b[39m.\u001b[39;49mnumerator, x\u001b[39m.\u001b[39mdenominator)\n\u001b[1;32m    259\u001b[0m \u001b[39mexcept\u001b[39;00m \u001b[39mAttributeError\u001b[39;00m:\n",
      "\u001b[0;31mAttributeError\u001b[0m: 'numpy.ndarray' object has no attribute 'numerator'",
      "\nDuring handling of the above exception, another exception occurred:\n",
      "\u001b[0;31mTypeError\u001b[0m                                 Traceback (most recent call last)",
      "Cell \u001b[0;32mIn[11], line 9\u001b[0m\n\u001b[1;32m      7\u001b[0m y \u001b[39m=\u001b[39m np\u001b[39m.\u001b[39mempty(N_SAMPLES)\n\u001b[1;32m      8\u001b[0m y \u001b[39m=\u001b[39m y\u001b[39m.\u001b[39mreshape(\u001b[39m-\u001b[39m\u001b[39m1\u001b[39m, \u001b[39m1\u001b[39m)\n\u001b[0;32m----> 9\u001b[0m S \u001b[39m=\u001b[39m statistics\u001b[39m.\u001b[39;49mstdev(X)\n\u001b[1;32m     10\u001b[0m M \u001b[39m=\u001b[39m statistics\u001b[39m.\u001b[39mmean(X)\n\u001b[1;32m     11\u001b[0m \u001b[39mfor\u001b[39;00m i \u001b[39min\u001b[39;00m \u001b[39mrange\u001b[39m(\u001b[39m0\u001b[39m, N_SAMPLES):\n",
      "File \u001b[0;32m~/Documents/ProgrammingResources/Miniconda/miniconda3/lib/python3.10/statistics.py:828\u001b[0m, in \u001b[0;36mstdev\u001b[0;34m(data, xbar)\u001b[0m\n\u001b[1;32m    817\u001b[0m \u001b[39m\"\"\"Return the square root of the sample variance.\u001b[39;00m\n\u001b[1;32m    818\u001b[0m \n\u001b[1;32m    819\u001b[0m \u001b[39mSee ``variance`` for arguments and other details.\u001b[39;00m\n\u001b[0;32m   (...)\u001b[0m\n\u001b[1;32m    823\u001b[0m \n\u001b[1;32m    824\u001b[0m \u001b[39m\"\"\"\u001b[39;00m\n\u001b[1;32m    825\u001b[0m \u001b[39m# Fixme: Despite the exact sum of squared deviations, some inaccuracy\u001b[39;00m\n\u001b[1;32m    826\u001b[0m \u001b[39m# remain because there are two rounding steps.  The first occurs in\u001b[39;00m\n\u001b[1;32m    827\u001b[0m \u001b[39m# the _convert() step for variance(), the second occurs in math.sqrt().\u001b[39;00m\n\u001b[0;32m--> 828\u001b[0m var \u001b[39m=\u001b[39m variance(data, xbar)\n\u001b[1;32m    829\u001b[0m \u001b[39mtry\u001b[39;00m:\n\u001b[1;32m    830\u001b[0m     \u001b[39mreturn\u001b[39;00m var\u001b[39m.\u001b[39msqrt()\n",
      "File \u001b[0;32m~/Documents/ProgrammingResources/Miniconda/miniconda3/lib/python3.10/statistics.py:768\u001b[0m, in \u001b[0;36mvariance\u001b[0;34m(data, xbar)\u001b[0m\n\u001b[1;32m    766\u001b[0m \u001b[39mif\u001b[39;00m n \u001b[39m<\u001b[39m \u001b[39m2\u001b[39m:\n\u001b[1;32m    767\u001b[0m     \u001b[39mraise\u001b[39;00m StatisticsError(\u001b[39m'\u001b[39m\u001b[39mvariance requires at least two data points\u001b[39m\u001b[39m'\u001b[39m)\n\u001b[0;32m--> 768\u001b[0m T, ss \u001b[39m=\u001b[39m _ss(data, xbar)\n\u001b[1;32m    769\u001b[0m \u001b[39mreturn\u001b[39;00m _convert(ss \u001b[39m/\u001b[39m (n \u001b[39m-\u001b[39m \u001b[39m1\u001b[39m), T)\n",
      "File \u001b[0;32m~/Documents/ProgrammingResources/Miniconda/miniconda3/lib/python3.10/statistics.py:708\u001b[0m, in \u001b[0;36m_ss\u001b[0;34m(data, c)\u001b[0m\n\u001b[1;32m    706\u001b[0m     T, total, count \u001b[39m=\u001b[39m _sum((x\u001b[39m-\u001b[39mc)\u001b[39m*\u001b[39m\u001b[39m*\u001b[39m\u001b[39m2\u001b[39m \u001b[39mfor\u001b[39;00m x \u001b[39min\u001b[39;00m data)\n\u001b[1;32m    707\u001b[0m     \u001b[39mreturn\u001b[39;00m (T, total)\n\u001b[0;32m--> 708\u001b[0m T, total, count \u001b[39m=\u001b[39m _sum(data)\n\u001b[1;32m    709\u001b[0m mean_n, mean_d \u001b[39m=\u001b[39m (total \u001b[39m/\u001b[39m count)\u001b[39m.\u001b[39mas_integer_ratio()\n\u001b[1;32m    710\u001b[0m partials \u001b[39m=\u001b[39m Counter()\n",
      "File \u001b[0;32m~/Documents/ProgrammingResources/Miniconda/miniconda3/lib/python3.10/statistics.py:188\u001b[0m, in \u001b[0;36m_sum\u001b[0;34m(data)\u001b[0m\n\u001b[1;32m    186\u001b[0m \u001b[39mfor\u001b[39;00m typ, values \u001b[39min\u001b[39;00m groupby(data, \u001b[39mtype\u001b[39m):\n\u001b[1;32m    187\u001b[0m     T \u001b[39m=\u001b[39m _coerce(T, typ)  \u001b[39m# or raise TypeError\u001b[39;00m\n\u001b[0;32m--> 188\u001b[0m     \u001b[39mfor\u001b[39;00m n, d \u001b[39min\u001b[39;00m \u001b[39mmap\u001b[39m(_exact_ratio, values):\n\u001b[1;32m    189\u001b[0m         count \u001b[39m+\u001b[39m\u001b[39m=\u001b[39m \u001b[39m1\u001b[39m\n\u001b[1;32m    190\u001b[0m         partials[d] \u001b[39m=\u001b[39m partials_get(d, \u001b[39m0\u001b[39m) \u001b[39m+\u001b[39m n\n",
      "File \u001b[0;32m~/Documents/ProgrammingResources/Miniconda/miniconda3/lib/python3.10/statistics.py:261\u001b[0m, in \u001b[0;36m_exact_ratio\u001b[0;34m(x)\u001b[0m\n\u001b[1;32m    259\u001b[0m \u001b[39mexcept\u001b[39;00m \u001b[39mAttributeError\u001b[39;00m:\n\u001b[1;32m    260\u001b[0m     msg \u001b[39m=\u001b[39m \u001b[39mf\u001b[39m\u001b[39m\"\u001b[39m\u001b[39mcan\u001b[39m\u001b[39m'\u001b[39m\u001b[39mt convert type \u001b[39m\u001b[39m'\u001b[39m\u001b[39m{\u001b[39;00m\u001b[39mtype\u001b[39m(x)\u001b[39m.\u001b[39m\u001b[39m__name__\u001b[39m\u001b[39m}\u001b[39;00m\u001b[39m'\u001b[39m\u001b[39m to numerator/denominator\u001b[39m\u001b[39m\"\u001b[39m\n\u001b[0;32m--> 261\u001b[0m     \u001b[39mraise\u001b[39;00m \u001b[39mTypeError\u001b[39;00m(msg)\n",
      "\u001b[0;31mTypeError\u001b[0m: can't convert type 'ndarray' to numerator/denominator"
     ]
    }
   ],
   "source": [
    "from sklearn.linear_model import LinearRegression\n",
    "from sklearn.model_selection import train_test_split\n",
    "import numpy as np\n",
    "import statistics\n",
    "N_SAMPLES = 1000\n",
    "X = np.random.normal(size = N_SAMPLES)\n",
    "X = X.reshape(-1, 1)\n",
    "y = np.empty(N_SAMPLES)\n",
    "y = y.reshape(-1, 1)\n",
    "S = statistics.stdev(X)\n",
    "M = statistics.mean(X)\n",
    "for i in range(0, N_SAMPLES):\n",
    "    if(X[i] < (M + S)):\n",
    "        y[i] = 1\n",
    "    if(X[i] > (M + S)):\n",
    "        y[i] = 0\n",
    "X_train, X_test, y_train, y_test = train_test_split(X, y, test_size = 0.33, random_state = 42)\n",
    "\n"
   ]
  }
 ],
 "metadata": {
  "kernelspec": {
   "display_name": "base",
   "language": "python",
   "name": "python3"
  },
  "language_info": {
   "codemirror_mode": {
    "name": "ipython",
    "version": 3
   },
   "file_extension": ".py",
   "mimetype": "text/x-python",
   "name": "python",
   "nbconvert_exporter": "python",
   "pygments_lexer": "ipython3",
   "version": "3.10.8"
  },
  "orig_nbformat": 4,
  "vscode": {
   "interpreter": {
    "hash": "6ab16979fedb31641b7ac1243318526274ee2a3ad405b6c5288b249e5d6a200a"
   }
  }
 },
 "nbformat": 4,
 "nbformat_minor": 2
}

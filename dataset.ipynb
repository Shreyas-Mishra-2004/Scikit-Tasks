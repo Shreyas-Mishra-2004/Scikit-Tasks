{
 "cells": [
  {
   "cell_type": "code",
   "execution_count": 32,
   "metadata": {},
   "outputs": [
    {
     "name": "stdout",
     "output_type": "stream",
     "text": [
      "[[ 3.04561112]\n",
      " [-6.27886285]\n",
      " [-5.26334037]\n",
      " [-0.27076468]\n",
      " [ 3.55774651]]\n"
     ]
    },
    {
     "ename": "TypeError",
     "evalue": "descriptor 'rand' for 'numpy.random.mtrand.RandomState' objects doesn't apply to a 'int' object",
     "output_type": "error",
     "traceback": [
      "\u001b[0;31m---------------------------------------------------------------------------\u001b[0m",
      "\u001b[0;31mTypeError\u001b[0m                                 Traceback (most recent call last)",
      "Cell \u001b[0;32mIn[32], line 5\u001b[0m\n\u001b[1;32m      3\u001b[0m X, y \u001b[39m=\u001b[39m make_blobs(n_samples \u001b[39m=\u001b[39m \u001b[39m5\u001b[39m, n_features \u001b[39m=\u001b[39m \u001b[39m1\u001b[39m, random_state \u001b[39m=\u001b[39m \u001b[39mNone\u001b[39;00m)\n\u001b[1;32m      4\u001b[0m \u001b[39mprint\u001b[39m(X)\n\u001b[0;32m----> 5\u001b[0m Z \u001b[39m=\u001b[39m np\u001b[39m.\u001b[39;49mrandom\u001b[39m.\u001b[39;49mRandomState\u001b[39m.\u001b[39;49mrand(\u001b[39m5\u001b[39;49m, \u001b[39m1\u001b[39;49m)\n\u001b[1;32m      6\u001b[0m \u001b[39mprint\u001b[39m(Z)\n",
      "\u001b[0;31mTypeError\u001b[0m: descriptor 'rand' for 'numpy.random.mtrand.RandomState' objects doesn't apply to a 'int' object"
     ]
    }
   ],
   "source": [
    "from sklearn.datasets import make_classification, make_blobs\n",
    "import numpy as np\n",
    "X, y = make_blobs(n_samples = 5, n_features = 1, random_state = None)\n",
    "print(X)\n",
    "Z = np.random.rand(5, 1)\n",
    "print(Z)\n"
   ]
  }
 ],
 "metadata": {
  "kernelspec": {
   "display_name": "base",
   "language": "python",
   "name": "python3"
  },
  "language_info": {
   "codemirror_mode": {
    "name": "ipython",
    "version": 3
   },
   "file_extension": ".py",
   "mimetype": "text/x-python",
   "name": "python",
   "nbconvert_exporter": "python",
   "pygments_lexer": "ipython3",
   "version": "3.10.8"
  },
  "orig_nbformat": 4,
  "vscode": {
   "interpreter": {
    "hash": "6ab16979fedb31641b7ac1243318526274ee2a3ad405b6c5288b249e5d6a200a"
   }
  }
 },
 "nbformat": 4,
 "nbformat_minor": 2
}

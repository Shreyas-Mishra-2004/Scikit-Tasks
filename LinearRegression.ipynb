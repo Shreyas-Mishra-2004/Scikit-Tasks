{
 "cells": [
  {
   "cell_type": "code",
   "execution_count": 33,
   "metadata": {},
   "outputs": [
    {
     "name": "stdout",
     "output_type": "stream",
     "text": [
      "0.40592811598011014\n"
     ]
    }
   ],
   "source": [
    "from sklearn.linear_model import LinearRegression\n",
    "from sklearn.model_selection import train_test_split\n",
    "import numpy as np\n",
    "import statistics\n",
    "N_SAMPLES = 1000\n",
    "X = np.random.normal(size = N_SAMPLES)\n",
    "y = np.empty(N_SAMPLES)\n",
    "S = statistics.stdev(X)\n",
    "M = statistics.mean(X)\n",
    "for i in range(0, N_SAMPLES):\n",
    "    if(X[i] < (M + S)):\n",
    "        y[i] = 1\n",
    "    if(X[i] > (M + S)):\n",
    "        y[i] = 0\n",
    "X_train, X_test, y_train, y_test = train_test_split(X, y, test_size = 0.33, random_state = 42)\n",
    "X_train = X_train.reshape(-1, 1)\n",
    "y_train = y_train.reshape(-1, 1)\n",
    "X_test = X_test.reshape(-1, 1)\n",
    "y_test = y_test.reshape(-1, 1)\n",
    "reg = LinearRegression()\n",
    "reg.fit(X_train, y_train)\n",
    "print(reg.score(X_test, y_test))\n",
    "print(\"hello\")\n"
   ]
  }
 ],
 "metadata": {
  "kernelspec": {
   "display_name": "base",
   "language": "python",
   "name": "python3"
  },
  "language_info": {
   "codemirror_mode": {
    "name": "ipython",
    "version": 3
   },
   "file_extension": ".py",
   "mimetype": "text/x-python",
   "name": "python",
   "nbconvert_exporter": "python",
   "pygments_lexer": "ipython3",
   "version": "3.10.8"
  },
  "orig_nbformat": 4,
  "vscode": {
   "interpreter": {
    "hash": "6ab16979fedb31641b7ac1243318526274ee2a3ad405b6c5288b249e5d6a200a"
   }
  }
 },
 "nbformat": 4,
 "nbformat_minor": 2
}
